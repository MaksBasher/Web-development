{
 "cells": [
  {
   "cell_type": "code",
   "execution_count": 1,
   "id": "eb0f7049",
   "metadata": {},
   "outputs": [
    {
     "name": "stdout",
     "output_type": "stream",
     "text": [
      "100\n"
     ]
    }
   ],
   "source": [
    "a = 100\n",
    "print(a)"
   ]
  },
  {
   "cell_type": "code",
   "execution_count": 4,
   "id": "75c12f52",
   "metadata": {},
   "outputs": [
    {
     "name": "stdout",
     "output_type": "stream",
     "text": [
      "0\n",
      "guru99\n"
     ]
    }
   ],
   "source": [
    "f = 0\n",
    "print (f)\n",
    "f = 'guru99'\n",
    "print (f)"
   ]
  },
  {
   "cell_type": "code",
   "execution_count": 7,
   "id": "6d22adeb",
   "metadata": {},
   "outputs": [
    {
     "name": "stdout",
     "output_type": "stream",
     "text": [
      "Guru99\n"
     ]
    }
   ],
   "source": [
    "a=\"Guru\"\n",
    "b = 99\n",
    "print (a+str(b))"
   ]
  },
  {
   "cell_type": "code",
   "execution_count": 9,
   "id": "3e1ad186",
   "metadata": {},
   "outputs": [
    {
     "name": "stdout",
     "output_type": "stream",
     "text": [
      "101\n",
      "I am learning Python\n",
      "101\n"
     ]
    }
   ],
   "source": [
    "f = 101\n",
    "print (f)\n",
    "def someFunction():\n",
    "    f = 'I am learning Python'\n",
    "    print (f)\n",
    "someFunction()\n",
    "print (f)\n"
   ]
  },
  {
   "cell_type": "code",
   "execution_count": 11,
   "id": "b2d1544c",
   "metadata": {},
   "outputs": [
    {
     "name": "stdout",
     "output_type": "stream",
     "text": [
      "101\n",
      "101\n",
      "changing global variable\n"
     ]
    }
   ],
   "source": [
    "f = 101;\n",
    "print(f)\n",
    "def someFunction():\n",
    "  global f\n",
    "  print(f)\n",
    "  f = \"changing global variable\"\n",
    "someFunction()\n",
    "print(f)\n"
   ]
  },
  {
   "cell_type": "code",
   "execution_count": 12,
   "id": "eae2feb2",
   "metadata": {
    "scrolled": true
   },
   "outputs": [
    {
     "name": "stdout",
     "output_type": "stream",
     "text": [
      "11\n"
     ]
    },
    {
     "ename": "NameError",
     "evalue": "name 'f' is not defined",
     "output_type": "error",
     "traceback": [
      "\u001b[1;31m---------------------------------------------------------------------------\u001b[0m",
      "\u001b[1;31mNameError\u001b[0m                                 Traceback (most recent call last)",
      "\u001b[1;32m~\\AppData\\Local\\Temp\\ipykernel_22544\\3270910043.py\u001b[0m in \u001b[0;36m<module>\u001b[1;34m\u001b[0m\n\u001b[0;32m      2\u001b[0m \u001b[0mprint\u001b[0m\u001b[1;33m(\u001b[0m\u001b[0mf\u001b[0m\u001b[1;33m)\u001b[0m\u001b[1;33m\u001b[0m\u001b[1;33m\u001b[0m\u001b[0m\n\u001b[0;32m      3\u001b[0m \u001b[1;32mdel\u001b[0m \u001b[0mf\u001b[0m\u001b[1;33m\u001b[0m\u001b[1;33m\u001b[0m\u001b[0m\n\u001b[1;32m----> 4\u001b[1;33m \u001b[0mprint\u001b[0m\u001b[1;33m(\u001b[0m\u001b[0mf\u001b[0m\u001b[1;33m)\u001b[0m\u001b[1;33m\u001b[0m\u001b[1;33m\u001b[0m\u001b[0m\n\u001b[0m",
      "\u001b[1;31mNameError\u001b[0m: name 'f' is not defined"
     ]
    }
   ],
   "source": [
    "f = 11;\n",
    "print(f)\n",
    "del f\n",
    "print(f)"
   ]
  },
  {
   "cell_type": "markdown",
   "id": "6de75793",
   "metadata": {},
   "source": [
    "# Python TUPLE – Pack, Unpack, Compare, Slicing, Delete, Key"
   ]
  },
  {
   "cell_type": "code",
   "execution_count": 13,
   "id": "1d5fb6fd",
   "metadata": {},
   "outputs": [],
   "source": [
    "#Advantages of tuple over list. \n",
    "#Iterating through tuple is faster than with list, since tuples are immutable.\n",
    "#Tuples that consist of immutable elements can be used as key for dictionary, which is not possible with list\n",
    "#If you have data that is immutable, implementing it as tuple will guarantee that it remains write-protected\n",
    "\n",
    "#Tuple Syntax\n",
    "Tup = ('Jan','feb','march');"
   ]
  },
  {
   "cell_type": "code",
   "execution_count": 15,
   "id": "7a5c67d8",
   "metadata": {},
   "outputs": [],
   "source": [
    "#empty tuple\n",
    "tup1 = ();\n",
    "#tuple for a single value\n",
    "Tup1 = (50,);\n",
    "#Tuple indices begin at 0, and they can be concatenated, sliced and so on."
   ]
  },
  {
   "cell_type": "code",
   "execution_count": 16,
   "id": "6ecb0f7f",
   "metadata": {},
   "outputs": [
    {
     "name": "stdout",
     "output_type": "stream",
     "text": [
      "Robert\n",
      "(2, 3, 4)\n"
     ]
    }
   ],
   "source": [
    "#Tuple Assignment\n",
    "tup1 = ('Robert', 'Carlos','1965','Terminator 1995', 'Actor','Florida');\n",
    "tup2 = (1,2,3,4,5,6,7);\n",
    "print(tup1[0])\n",
    "print(tup2[1:4])"
   ]
  },
  {
   "cell_type": "code",
   "execution_count": 19,
   "id": "f85f5a18",
   "metadata": {},
   "outputs": [
    {
     "name": "stdout",
     "output_type": "stream",
     "text": [
      "Guru99\n",
      "20\n",
      "Education\n"
     ]
    }
   ],
   "source": [
    "#Packing and Unpacking\n",
    "x = (\"Guru99\", 20, \"Education\")    # tuple packing\n",
    "(company, emp, profile) = x    # tuple unpacking\n",
    "print(company)\n",
    "print(emp)\n",
    "print(profile)"
   ]
  },
  {
   "cell_type": "code",
   "execution_count": 20,
   "id": "d8bfd0fd",
   "metadata": {},
   "outputs": [
    {
     "name": "stdout",
     "output_type": "stream",
     "text": [
      "a is bigger\n",
      "a is bigger\n",
      "b is bigger\n"
     ]
    }
   ],
   "source": [
    "#Comparing tuples\n",
    "#case 1\n",
    "a=(5,6)\n",
    "b=(1,4)\n",
    "if (a>b):print(\"a is bigger\")\n",
    "else: print(\"b is bigger\")\n",
    "#case 2\n",
    "a=(5,6)\n",
    "b=(5,4)\n",
    "if (a>b):print(\"a is bigger\")\n",
    "else: print (\"b is bigger\")\n",
    "#case 3\n",
    "a=(5,6)\n",
    "b=(6,4)\n",
    "if (a>b):print(\"a is bigger\")\n",
    "else: print(\"b is bigger\")\n"
   ]
  },
  {
   "cell_type": "code",
   "execution_count": 23,
   "id": "863373d1",
   "metadata": {},
   "outputs": [
    {
     "name": "stdout",
     "output_type": "stream",
     "text": [
      "[('x', 100), ('y', 200)]\n"
     ]
    }
   ],
   "source": [
    "#Tuples and dictionary\n",
    "a = {'x':100, 'y':200}\n",
    "b = list(a.items())\n",
    "print(b)"
   ]
  },
  {
   "cell_type": "code",
   "execution_count": 24,
   "id": "f7967387",
   "metadata": {},
   "outputs": [
    {
     "name": "stdout",
     "output_type": "stream",
     "text": [
      "('c', 'd')\n"
     ]
    }
   ],
   "source": [
    "#Slicing of Tuple\n",
    "x = (\"a\", \"b\",\"c\", \"d\", \"e\")\n",
    "print(x[2:4])\n"
   ]
  },
  {
   "cell_type": "markdown",
   "id": "410ddca0",
   "metadata": {},
   "source": [
    "# Dictionary in Python with Syntax & Example"
   ]
  },
  {
   "cell_type": "code",
   "execution_count": null,
   "id": "29f18081",
   "metadata": {},
   "outputs": [],
   "source": [
    "#Syntax \n",
    "Dict = { ' Tim': 18,  xyz,.. }"
   ]
  },
  {
   "cell_type": "code",
   "execution_count": null,
   "id": "264fa389",
   "metadata": {},
   "outputs": [
    {
     "name": "stdout",
     "output_type": "stream",
     "text": [
      "22\n"
     ]
    }
   ],
   "source": [
    "#There are two important points while using dictionary keys\n",
    "    #More than one entry per key is not allowed ( no duplicate key is allowed)\n",
    "    #The values in the dictionary can be of any type, while the keys must be immutable like numbers, tuples, or strings.\n",
    "    #Dictionary keys are case sensitive- Same key name but with the different cases are treated as different keys in Python dictionaries.\n",
    "Dict = {'Tim': 18,'Charlie':12,'Tiffany':22,'Robert':25}   \n",
    "print((Dict['Tiffany']))\n",
    "\n",
    "print(Dict.keys())"
   ]
  },
  {
   "cell_type": "code",
   "execution_count": 27,
   "id": "05eaf5ae",
   "metadata": {},
   "outputs": [
    {
     "name": "stdout",
     "output_type": "stream",
     "text": [
      "{'Tim': 18, 'Charlie': 12, 'Robert': 25}\n",
      "{'Tiffany': 22}\n"
     ]
    }
   ],
   "source": [
    "#Copying dictionary\n",
    "Dict = {'Tim': 18,'Charlie':12,'Tiffany':22,'Robert':25}\t\n",
    "Boys = {'Tim': 18,'Charlie':12,'Robert':25}\n",
    "Girls = {'Tiffany':22}\t\n",
    "studentX=Boys.copy()\n",
    "studentY=Girls.copy()\n",
    "print(studentX)\n",
    "print(studentY)\n"
   ]
  },
  {
   "cell_type": "code",
   "execution_count": 28,
   "id": "69c005f7",
   "metadata": {},
   "outputs": [
    {
     "name": "stdout",
     "output_type": "stream",
     "text": [
      "{'Tim': 18, 'Charlie': 12, 'Tiffany': 22, 'Robert': 25, 'Sarah': 9}\n"
     ]
    }
   ],
   "source": [
    "#Updating Dictionary\n",
    "Dict = {'Tim': 18,'Charlie':12,'Tiffany':22,'Robert':25}\t\n",
    "Dict.update({\"Sarah\":9})\n",
    "print(Dict)"
   ]
  },
  {
   "cell_type": "code",
   "execution_count": 29,
   "id": "75abaa0f",
   "metadata": {},
   "outputs": [
    {
     "name": "stdout",
     "output_type": "stream",
     "text": [
      "{'Tim': 18, 'Tiffany': 22, 'Robert': 25}\n"
     ]
    }
   ],
   "source": [
    "#Delete Keys from the dictionary\n",
    "Dict = {'Tim': 18,'Charlie':12,'Tiffany':22,'Robert':25}\t\n",
    "del Dict ['Charlie']\n",
    "print(Dict)"
   ]
  },
  {
   "cell_type": "code",
   "execution_count": 30,
   "id": "767dbec2",
   "metadata": {},
   "outputs": [
    {
     "name": "stdout",
     "output_type": "stream",
     "text": [
      "Students Name: [('Tim', 18), ('Charlie', 12), ('Tiffany', 22), ('Robert', 25)]\n"
     ]
    }
   ],
   "source": [
    "#items() Method\n",
    "Dict = {'Tim': 18,'Charlie':12,'Tiffany':22,'Robert':25}\t\n",
    "print(\"Students Name: %s\" % list(Dict.items()))\n"
   ]
  },
  {
   "cell_type": "code",
   "execution_count": 31,
   "id": "1cad470c",
   "metadata": {},
   "outputs": [
    {
     "name": "stdout",
     "output_type": "stream",
     "text": [
      "True\n",
      "True\n",
      "True\n"
     ]
    }
   ],
   "source": [
    "#Check if a given key already exists in a dictionary\n",
    "Dict = {'Tim': 18,'Charlie':12,'Tiffany':22,'Robert':25}\n",
    "Boys = {'Tim': 18,'Charlie':12,'Robert':25}\n",
    "Girls = {'Tiffany':22}\n",
    "for key in list(Boys.keys()):\n",
    "    if key in list(Dict.keys()):\n",
    "        print(True)\n",
    "    else:       \n",
    "        print(False)\n",
    "#The forloop in code checks each key in the main dictionary for Boys keys\n",
    "#If it exists in the main dictionary, it should print true or else it should print false\n",
    "#When you execute the code, it will print “True” for three times, as we got three elements in our “Boys” dictionary\n",
    "#So it indicates that the “Boys” exist in our main dictionary (Dict)\n"
   ]
  },
  {
   "cell_type": "code",
   "execution_count": 32,
   "id": "f7cf4ea1",
   "metadata": {},
   "outputs": [
    {
     "name": "stdout",
     "output_type": "stream",
     "text": [
      "Charlie:12\n",
      "Robert:25\n",
      "Tiffany:22\n",
      "Tim:18\n"
     ]
    }
   ],
   "source": [
    "#Sorting the Dictionary\n",
    "Dict = {'Tim': 18,'Charlie':12,'Tiffany':22,'Robert':25}\n",
    "Boys = {'Tim': 18,'Charlie':12,'Robert':25}\n",
    "Girls = {'Tiffany':22}\n",
    "Students = list(Dict.keys())\n",
    "Students.sort()\n",
    "for S in Students:\n",
    "      print(\":\".join((S,str(Dict[S]))))\n",
    "#We declared the variable students for our dictionary “Dict.”\n",
    "#Then we use the code Students.sort, which will sort the element inside our dictionary\n",
    "#But to sort each element in the dictionary, we run the for a loop by declaring variable S\n",
    "#Now, when we execute the code, the for loop will call each element from the dictionary, and it will print the string and value in an order\n"
   ]
  },
  {
   "cell_type": "code",
   "execution_count": 33,
   "id": "33854aaa",
   "metadata": {},
   "outputs": [
    {
     "name": "stdout",
     "output_type": "stream",
     "text": [
      "Length : 4\n"
     ]
    }
   ],
   "source": [
    "#Dictionary len() Method\n",
    "Dict = {'Tim': 18,'Charlie':12,'Tiffany':22,'Robert':25}\t\n",
    "print(\"Length : %d\" % len (Dict))\n"
   ]
  },
  {
   "cell_type": "code",
   "execution_count": 39,
   "id": "e17c9a86",
   "metadata": {},
   "outputs": [
    {
     "name": "stdout",
     "output_type": "stream",
     "text": [
      "variable Type: <class 'dict'>\n"
     ]
    }
   ],
   "source": [
    "#Variable Types\n",
    "Dict = {'Tim': 18,'Charlie':12,'Tiffany':22,'Robert':25}\t\n",
    "print(\"variable Type: %s\" %type (Dict))"
   ]
  },
  {
   "cell_type": "code",
   "execution_count": 40,
   "id": "b2ce65a0",
   "metadata": {},
   "outputs": [],
   "source": [
    "#Python List cmp() Method\n",
    "#doesn't work in Python 3"
   ]
  },
  {
   "cell_type": "code",
   "execution_count": 41,
   "id": "7733b6bb",
   "metadata": {},
   "outputs": [
    {
     "name": "stdout",
     "output_type": "stream",
     "text": [
      "printable string:{'Tim': 18, 'Charlie': 12, 'Tiffany': 22, 'Robert': 25}\n"
     ]
    }
   ],
   "source": [
    "#Dictionary Str(dict)\n",
    "Dict = {'Tim': 18,'Charlie':12,'Tiffany':22,'Robert':25}\t\n",
    "print(\"printable string:%s\" % str (Dict))\n"
   ]
  },
  {
   "cell_type": "code",
   "execution_count": 42,
   "id": "5e076d5b",
   "metadata": {},
   "outputs": [
    {
     "name": "stdout",
     "output_type": "stream",
     "text": [
      "{'username': 'XYZ', 'email': 'xyz@gmail.com', 'location': 'Mumbai', 'firstName': 'Nick', 'lastName': 'Price'}\n"
     ]
    }
   ],
   "source": [
    "#Merging Dictionaries\n",
    "my_dict1 = {\"username\": \"XYZ\", \"email\": \"xyz@gmail.com\", \"location\":\"Mumbai\"}\n",
    "my_dict2 = {\"firstName\" : \"Nick\", \"lastName\": \"Price\"}\n",
    "my_dict1.update(my_dict2)\n",
    "print(my_dict1)"
   ]
  },
  {
   "cell_type": "code",
   "execution_count": 43,
   "id": "1d10f7cc",
   "metadata": {},
   "outputs": [
    {
     "name": "stdout",
     "output_type": "stream",
     "text": [
      "{'username': 'XYZ', 'email': 'xyz@gmail.com', 'location': 'Mumbai', 'firstName': 'Nick', 'lastName': 'Price'}\n"
     ]
    }
   ],
   "source": [
    "#Merging dictionaries using ** method\n",
    "my_dict1 = {\"username\": \"XYZ\", \"email\": \"xyz@gmail.com\", \"location\":\"Mumbai\"}\n",
    "\n",
    "my_dict2 = {\"firstName\" : \"Nick\", \"lastName\": \"Price\"}\n",
    "\n",
    "my_dict =  {**my_dict1, **my_dict2} \n",
    "\n",
    "print(my_dict)\n"
   ]
  },
  {
   "cell_type": "code",
   "execution_count": 44,
   "id": "6182193f",
   "metadata": {},
   "outputs": [
    {
     "name": "stdout",
     "output_type": "stream",
     "text": [
      "True\n",
      "True\n",
      "False\n"
     ]
    }
   ],
   "source": [
    "#Dictionary Membership Test\n",
    "my_dict = {\"username\": \"XYZ\", \"email\": \"xyz@gmail.com\", \"location\":\"Mumbai\"}\n",
    "print(\"email\" in my_dict)\n",
    "print(\"location\" in my_dict)\n",
    "print(\"test\" in my_dict)"
   ]
  },
  {
   "cell_type": "code",
   "execution_count": 47,
   "id": "68163706",
   "metadata": {},
   "outputs": [
    {
     "name": "stdout",
     "output_type": "stream",
     "text": [
      "{'Name': ['Guru'], 'Address': ['Mumbai'], 'Age': [30]}\n"
     ]
    }
   ],
   "source": [
    "#Python Dictionary Append: How to Add Key/Value Pair\n",
    "my_dict = {\"Name\":[],\"Address\":[],\"Age\":[]};\n",
    "\n",
    "my_dict[\"Name\"].append(\"Guru\")\n",
    "my_dict[\"Address\"].append(\"Mumbai\")\n",
    "my_dict[\"Age\"].append(30)\t\n",
    "print(my_dict)"
   ]
  },
  {
   "cell_type": "code",
   "execution_count": 48,
   "id": "96844a85",
   "metadata": {},
   "outputs": [
    {
     "name": "stdout",
     "output_type": "stream",
     "text": [
      "username : XYZ\n",
      "email :  xyz@gmail.com\n",
      "location :  Mumbai\n"
     ]
    }
   ],
   "source": [
    "#Accessing elements of a dictionary\n",
    "my_dict = {\"username\": \"XYZ\", \"email\": \"xyz@gmail.com\", \"location\":\"Mumbai\"}\n",
    "print(\"username :\", my_dict['username'])\n",
    "print(\"email : \", my_dict[\"email\"])\n",
    "print(\"location : \", my_dict[\"location\"])"
   ]
  },
  {
   "cell_type": "code",
   "execution_count": 49,
   "id": "446d9a8b",
   "metadata": {},
   "outputs": [
    {
     "ename": "TypeError",
     "evalue": "'type' object does not support item deletion",
     "output_type": "error",
     "traceback": [
      "\u001b[1;31m---------------------------------------------------------------------------\u001b[0m",
      "\u001b[1;31mTypeError\u001b[0m                                 Traceback (most recent call last)",
      "\u001b[1;32m~\\AppData\\Local\\Temp\\ipykernel_22544\\2658577545.py\u001b[0m in \u001b[0;36m<module>\u001b[1;34m\u001b[0m\n\u001b[0;32m      1\u001b[0m \u001b[1;31m#Deleting element(s) in a dictionary\u001b[0m\u001b[1;33m\u001b[0m\u001b[1;33m\u001b[0m\u001b[0m\n\u001b[1;32m----> 2\u001b[1;33m \u001b[1;32mdel\u001b[0m \u001b[0mdict\u001b[0m\u001b[1;33m[\u001b[0m\u001b[1;34m'yourkey'\u001b[0m\u001b[1;33m]\u001b[0m  \u001b[1;31m# This will remove the element with your key.\u001b[0m\u001b[1;33m\u001b[0m\u001b[1;33m\u001b[0m\u001b[0m\n\u001b[0m",
      "\u001b[1;31mTypeError\u001b[0m: 'type' object does not support item deletion"
     ]
    }
   ],
   "source": [
    "#Deleting element(s) in a dictionary\n",
    "del dict['yourkey']  # This will remove the element with your key.\n",
    "del my_dict  # this will delete the dictionary with name my_dict\n",
    "your_dict.clear() #this will empty the dictionary"
   ]
  },
  {
   "cell_type": "code",
   "execution_count": 50,
   "id": "1377a3d5",
   "metadata": {},
   "outputs": [
    {
     "name": "stdout",
     "output_type": "stream",
     "text": [
      "{'email': 'xyz@gmail.com', 'location': 'Mumbai'}\n",
      "{}\n"
     ]
    },
    {
     "ename": "NameError",
     "evalue": "name 'delmy_dict' is not defined",
     "output_type": "error",
     "traceback": [
      "\u001b[1;31m---------------------------------------------------------------------------\u001b[0m",
      "\u001b[1;31mNameError\u001b[0m                                 Traceback (most recent call last)",
      "\u001b[1;32m~\\AppData\\Local\\Temp\\ipykernel_22544\\1849496661.py\u001b[0m in \u001b[0;36m<module>\u001b[1;34m\u001b[0m\n\u001b[0;32m      4\u001b[0m \u001b[0mmy_dict\u001b[0m\u001b[1;33m.\u001b[0m\u001b[0mclear\u001b[0m\u001b[1;33m(\u001b[0m\u001b[1;33m)\u001b[0m  \u001b[1;31m# till will make the dictionarymy_dictempty\u001b[0m\u001b[1;33m\u001b[0m\u001b[1;33m\u001b[0m\u001b[0m\n\u001b[0;32m      5\u001b[0m \u001b[0mprint\u001b[0m\u001b[1;33m(\u001b[0m\u001b[0mmy_dict\u001b[0m\u001b[1;33m)\u001b[0m\u001b[1;33m\u001b[0m\u001b[1;33m\u001b[0m\u001b[0m\n\u001b[1;32m----> 6\u001b[1;33m \u001b[0mdelmy_dict\u001b[0m \u001b[1;31m# this will delete the dictionarymy_dict\u001b[0m\u001b[1;33m\u001b[0m\u001b[1;33m\u001b[0m\u001b[0m\n\u001b[0m\u001b[0;32m      7\u001b[0m \u001b[0mprint\u001b[0m\u001b[1;33m(\u001b[0m\u001b[0mmy_dict\u001b[0m\u001b[1;33m)\u001b[0m\u001b[1;33m\u001b[0m\u001b[1;33m\u001b[0m\u001b[0m\n",
      "\u001b[1;31mNameError\u001b[0m: name 'delmy_dict' is not defined"
     ]
    }
   ],
   "source": [
    "my_dict = {\"username\": \"XYZ\", \"email\": \"xyz@gmail.com\", \"location\":\"Mumbai\"}\n",
    "del my_dict['username']  # it will remove \"username\": \"XYZ\" from my_dict\n",
    "print(my_dict)\n",
    "my_dict.clear()  # till will make the dictionarymy_dictempty\n",
    "print(my_dict)\n",
    "delmy_dict # this will delete the dictionarymy_dict\n",
    "print(my_dict)"
   ]
  },
  {
   "cell_type": "code",
   "execution_count": null,
   "id": "3ac13c61",
   "metadata": {},
   "outputs": [],
   "source": [
    "#Deleting Element(s) from dictionary using pop() method\n",
    "dict.pop(key, defaultvalue) #Syntax"
   ]
  },
  {
   "cell_type": "code",
   "execution_count": 51,
   "id": "e29f5c62",
   "metadata": {},
   "outputs": [
    {
     "name": "stdout",
     "output_type": "stream",
     "text": [
      "{'email': 'xyz@gmail.com', 'location': 'Mumbai'}\n"
     ]
    }
   ],
   "source": [
    "my_dict = {\"username\": \"XYZ\", \"email\": \"xyz@gmail.com\", \"location\":\"Mumbai\"}\n",
    "my_dict.pop(\"username\")\n",
    "print(my_dict)"
   ]
  },
  {
   "cell_type": "code",
   "execution_count": 52,
   "id": "eaec91c6",
   "metadata": {},
   "outputs": [
    {
     "name": "stdout",
     "output_type": "stream",
     "text": [
      "{'username': 'XYZ', 'email': 'xyz@gmail.com', 'location': 'Mumbai', 'name': 'Nick'}\n"
     ]
    }
   ],
   "source": [
    "#Appending element(s) to a dictionary\n",
    "my_dict = {\"username\": \"XYZ\", \"email\": \"xyz@gmail.com\", \"location\":\"Mumbai\"}\n",
    "\n",
    "my_dict['name']='Nick'\n",
    "\n",
    "print(my_dict)"
   ]
  },
  {
   "cell_type": "code",
   "execution_count": 53,
   "id": "676ca219",
   "metadata": {},
   "outputs": [
    {
     "name": "stdout",
     "output_type": "stream",
     "text": [
      "{'username': 'ABC', 'email': 'xyz@gmail.com', 'location': 'Mumbai'}\n"
     ]
    }
   ],
   "source": [
    "#Updating existing element(s) in a dictionary\n",
    "my_dict = {\"username\": \"XYZ\", \"email\": \"xyz@gmail.com\", \"location\":\"Mumbai\"}\n",
    "\n",
    "my_dict[\"username\"] = \"ABC\"\n",
    "\n",
    "print(my_dict)"
   ]
  },
  {
   "cell_type": "code",
   "execution_count": 54,
   "id": "86cc9153",
   "metadata": {},
   "outputs": [
    {
     "name": "stdout",
     "output_type": "stream",
     "text": [
      "{'username': 'XYZ', 'email': 'xyz@gmail.com', 'location': 'Washington', 'name': {'firstName': 'Nick', 'lastName': 'Price'}}\n"
     ]
    }
   ],
   "source": [
    "#Insert a dictionary into another dictionary\n",
    "my_dict = {\"username\": \"XYZ\", \"email\": \"xyz@gmail.com\", \"location\":\"Washington\"}\n",
    "\n",
    "my_dict1 = {\"firstName\" : \"Nick\", \"lastName\": \"Price\"}\n",
    "\n",
    "my_dict[\"name\"] = my_dict1\n",
    "\n",
    "print(my_dict)\n"
   ]
  },
  {
   "cell_type": "code",
   "execution_count": null,
   "id": "bfe88c7a",
   "metadata": {},
   "outputs": [],
   "source": [
    "#Dictionary is one of the important data types available in Python. \n",
    "#The data in a dictionary is stored as a key/value pair. \n",
    "#The key/value is separated by a colon(:), and the key/value pair is separated by comma(,). \n",
    "#The keys in a dictionary are unique and can be a string, integer, tuple, etc. \n",
    "#The values can be a list or list within a list, numbers, string, etc."
   ]
  },
  {
   "cell_type": "markdown",
   "id": "eadbf617",
   "metadata": {},
   "source": [
    "# Operators in Python – Logical, Arithmetic, Comparison"
   ]
  },
  {
   "cell_type": "code",
   "execution_count": 55,
   "id": "5f449c22",
   "metadata": {},
   "outputs": [
    {
     "name": "stdout",
     "output_type": "stream",
     "text": [
      "9\n"
     ]
    }
   ],
   "source": [
    "#Arithmetic Operators\n",
    "x= 4   \n",
    "y= 5\n",
    "print(x + y)"
   ]
  },
  {
   "cell_type": "code",
   "execution_count": 56,
   "id": "1483b630",
   "metadata": {},
   "outputs": [
    {
     "name": "stdout",
     "output_type": "stream",
     "text": [
      "('x > y  is', False)\n"
     ]
    }
   ],
   "source": [
    "#Comparison Operators\n",
    "x = 4\n",
    "y = 5\n",
    "print(('x > y  is',x>y))"
   ]
  },
  {
   "cell_type": "code",
   "execution_count": 57,
   "id": "462dd9a8",
   "metadata": {},
   "outputs": [
    {
     "name": "stdout",
     "output_type": "stream",
     "text": [
      "('Line 1 - Value of num1 : ', 4)\n",
      "('Line 2 - Value of num2 : ', 5)\n"
     ]
    }
   ],
   "source": [
    "#Python Assignment Operators\n",
    "num1 = 4\n",
    "num2 = 5\n",
    "print((\"Line 1 - Value of num1 : \", num1))\n",
    "print((\"Line 2 - Value of num2 : \", num2))"
   ]
  },
  {
   "cell_type": "code",
   "execution_count": 58,
   "id": "b3034170",
   "metadata": {},
   "outputs": [
    {
     "name": "stdout",
     "output_type": "stream",
     "text": [
      "('Line 1 - Result of + is ', 13)\n"
     ]
    }
   ],
   "source": [
    "#Example of compound assignment operator\n",
    "num1 = 4\n",
    "num2 = 5\n",
    "res = num1 + num2\n",
    "res += num1\n",
    "print((\"Line 1 - Result of + is \", res))"
   ]
  },
  {
   "cell_type": "code",
   "execution_count": 59,
   "id": "b7f5f4bd",
   "metadata": {},
   "outputs": [
    {
     "name": "stdout",
     "output_type": "stream",
     "text": [
      "('a and b is', False)\n",
      "('a or b is', True)\n",
      "('not a is', False)\n"
     ]
    }
   ],
   "source": [
    "#Logical Operators or Bitwise Operators\n",
    "    #For AND operator – It returns TRUE if both the operands (right side and left side) are true\n",
    "    #For OR operator- It returns TRUE if either of the operand (right side or left side) is true\n",
    "    #For NOT operator- returns TRUE if operand is false\n",
    "a = True\n",
    "b = False\n",
    "print(('a and b is',a and b))\n",
    "print(('a or b is',a or b))\n",
    "print(('not a is',not a))"
   ]
  },
  {
   "cell_type": "code",
   "execution_count": 60,
   "id": "c7bb82f5",
   "metadata": {},
   "outputs": [
    {
     "name": "stdout",
     "output_type": "stream",
     "text": [
      "Line 1 - x is available in the given list\n",
      "Line 2 - y is not available in the given list\n"
     ]
    }
   ],
   "source": [
    "#Membership Operators\n",
    "x = 4\n",
    "y = 8\n",
    "list = [1, 2, 3, 4, 5 ];\n",
    "if ( x in list ):\n",
    "  print(\"Line 1 - x is available in the given list\")\n",
    "else:\n",
    "  print(\"Line 1 - x is not available in the given list\")\n",
    "if ( y not in list ):\n",
    "  print(\"Line 2 - y is not available in the given list\")\n",
    "else:\n",
    "  print(\"Line 2 - y is available in the given list\")\n",
    "    #Declare the value for x and y\n",
    "    #Declare the value of list\n",
    "    #Use the “in” operator in code with if statement to check the value of x existing in the list and print the result accordingly\n",
    "    #Use the “not in” operator in code with if statement to check the value of y exist in the list and print the result accordingly\n",
    "    #Run the code- When the code run it gives the desired output"
   ]
  },
  {
   "cell_type": "code",
   "execution_count": 61,
   "id": "b7f9f516",
   "metadata": {},
   "outputs": [
    {
     "name": "stdout",
     "output_type": "stream",
     "text": [
      "x & y  SAME identity\n",
      "x & y have DIFFERENT identity\n"
     ]
    }
   ],
   "source": [
    "#Identity Operators. Identity Operators in Python are used to compare the memory location of two objects.\n",
    "    #Operator is: It returns true if two variables point the same object and false otherwise\n",
    "    #Operator is not: It returns false if two variables point the same object and true otherwise\n",
    "x = 20\n",
    "y = 20\n",
    "if ( x is y ):\n",
    "   print(\"x & y  SAME identity\")\n",
    "y=30\n",
    "if ( x is not y ):\n",
    "   print(\"x & y have DIFFERENT identity\")"
   ]
  },
  {
   "cell_type": "raw",
   "id": "96045ad3",
   "metadata": {},
   "source": [
    "** Exponent\n",
    "*, /, //, % Multiplication, Division, Floor division, Modulus\n",
    "+, – Addition, Subtraction\n",
    "<= < > >= Comparison operators\n",
    "= %= /= //= -= += *= **= Assignment Operators\n",
    "is is not Identity operators\n",
    "in not in Membership operators\n",
    "not or and Logical operators"
   ]
  },
  {
   "cell_type": "code",
   "execution_count": 62,
   "id": "e0ee9a51",
   "metadata": {},
   "outputs": [
    {
     "name": "stdout",
     "output_type": "stream",
     "text": [
      "Value of (v+w) * x/ y is  36.0\n"
     ]
    }
   ],
   "source": [
    "#Operator Precedence\n",
    "v = 4\n",
    "w = 5\n",
    "x = 8\n",
    "y = 2\n",
    "z = 0\n",
    "z = (v+w) * x / y;  \n",
    "print(\"Value of (v+w) * x/ y is \",  z)"
   ]
  },
  {
   "cell_type": "code",
   "execution_count": null,
   "id": "0630172e",
   "metadata": {},
   "outputs": [],
   "source": []
  },
  {
   "cell_type": "code",
   "execution_count": null,
   "id": "58a65edc",
   "metadata": {},
   "outputs": [],
   "source": []
  }
 ],
 "metadata": {
  "kernelspec": {
   "display_name": "Python 3",
   "language": "python",
   "name": "python3"
  },
  "language_info": {
   "codemirror_mode": {
    "name": "ipython",
    "version": 3
   },
   "file_extension": ".py",
   "mimetype": "text/x-python",
   "name": "python",
   "nbconvert_exporter": "python",
   "pygments_lexer": "ipython3",
   "version": "3.11.0 (main, Oct 24 2022, 18:26:48) [MSC v.1933 64 bit (AMD64)]"
  },
  "vscode": {
   "interpreter": {
    "hash": "c261aea317cc0286b3b3261fbba9abdec21eaa57589985bb7a274bf54d6cc0a7"
   }
  }
 },
 "nbformat": 4,
 "nbformat_minor": 5
}
