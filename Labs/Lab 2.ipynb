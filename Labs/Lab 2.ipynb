{
 "cells": [
  {
   "cell_type": "markdown",
   "id": "5c41d213",
   "metadata": {},
   "source": [
    "# Task 1 - Odd or Even number determination"
   ]
  },
  {
   "cell_type": "code",
   "execution_count": 10,
   "id": "eb089210",
   "metadata": {},
   "outputs": [
    {
     "name": "stdout",
     "output_type": "stream",
     "text": [
      "Enter the number here: 2\n",
      "x type is int and the value is equal to 2\n",
      "The number you entered is even\n"
     ]
    }
   ],
   "source": [
    "#Writing a code for a user to enter a number\n",
    "x_input = input(\"Enter the number here: \")\n",
    "x_int = int(x_input)\n",
    "print('x type is',type(x_int).__name__,\"and the value is equal to\",x_int)\n",
    "#Determining whether a number is odd or even\n",
    "if x_int % 2 == 0:\n",
    "    print('The number you entered is even')\n",
    "else:\n",
    "    print('The number you enetered is odd')"
   ]
  },
  {
   "cell_type": "markdown",
   "id": "c5539d01",
   "metadata": {},
   "source": [
    "# Task 2 - Equation solver"
   ]
  },
  {
   "cell_type": "code",
   "execution_count": 12,
   "id": "00984fd1",
   "metadata": {
    "scrolled": true
   },
   "outputs": [
    {
     "name": "stdout",
     "output_type": "stream",
     "text": [
      "a: 2\n",
      "b: 1\n",
      "c: 5\n",
      "Discriminant is equal to -39\n",
      "We don't have any roots for this equation :c\n",
      "The first root is equal to (-0.2500000000000001-1.5612494995995996j)\n",
      "The first root is equal to (-0.24999999999999992+1.5612494995995996j)\n"
     ]
    }
   ],
   "source": [
    "#The equation is ax^2+bx+c = 0 \n",
    "a_input = input(\"a: \")\n",
    "a = int(a_input)\n",
    "b_input = input(\"b: \")\n",
    "b = int(b_input)\n",
    "c_input = input(\"c: \")\n",
    "c = int(c_input)\n",
    "\n",
    "#Calculation for discriminant\n",
    "disc = b**2 - 4*a*c\n",
    "print(\"Discriminant is equal to\",disc)\n",
    "\n",
    "#Check for how many roots we can have in equation\n",
    "if disc > 0:\n",
    "    print(\"We have 2 roots\")\n",
    "    #Calculating the roots if disc>0 (we have 2 roots)\n",
    "    first_root = (-b - disc**0.5)/(2*a)\n",
    "    second_root = (-b + disc**0.5)/(2*a)\n",
    "    print(\"The first root is equal to\", first_root)\n",
    "    print(\"The second root is equal to\", second_root)\n",
    "elif disc == 0:\n",
    "    print(\"We have only 1 root\")\n",
    "    #Calculating the roots if disc=0 (we have 1 roots)\n",
    "    only_root = (-b/2*a)\n",
    "    print(\"The root is equal to\", only_root)\n",
    "elif disc < 0:\n",
    "    print(\"We don't have any roots for this equation :c\")"
   ]
  },
  {
   "cell_type": "markdown",
   "id": "cb3813dd",
   "metadata": {},
   "source": [
    "# Task 3 - Maximum value"
   ]
  },
  {
   "cell_type": "code",
   "execution_count": 16,
   "id": "55fcc0e6",
   "metadata": {},
   "outputs": [
    {
     "name": "stdout",
     "output_type": "stream",
     "text": [
      "[3, 4]\n"
     ]
    }
   ],
   "source": [
    "x = [1,2,3,4,5]\n",
    "print (x[2:4])"
   ]
  },
  {
   "cell_type": "markdown",
   "id": "84b120b1",
   "metadata": {},
   "source": [
    "# Task 4 - Game"
   ]
  },
  {
   "cell_type": "code",
   "execution_count": null,
   "id": "99c00bc1",
   "metadata": {},
   "outputs": [],
   "source": [
    "#A game for guessing the correct choosing of a random word from a set where the player will guess the word and the program will return if the position of the letter is correct, and if the letter acutely exists in the word with maximum of correct.\n",
    "#Program will choose a random word\n",
    "#Program tell the player that the word has n letters and ask player for his guess\n",
    "#Player enter his guess\n",
    "#Don’t allow the player to enter a word that has length not equal to n\n",
    "#You should check and return to player which letter was correct which one was not\n",
    "#Player has limited try, that can be set before you start the program\n",
    "#Example:\n",
    "#Program choose the word water ( length = 5 )\n",
    "#Player guess it is wallet -> invalid length  > 5 \n",
    "#Player guess it is woman -> w correct, o wrong, m wrong, a exist, n wrong\n",
    "#Player now know that the word should start with w and it has the letter a also the word doesn’t contain o,m,n\n",
    "#If the user couldn’t guess the word after m trys then he loses , calculates the  score, and reveals the correct word."
   ]
  },
  {
   "cell_type": "code",
   "execution_count": 17,
   "id": "fb89956b",
   "metadata": {},
   "outputs": [
    {
     "name": "stdout",
     "output_type": "stream",
     "text": [
      "The game has made a selection\n",
      "The word has 5 letters Try to guess which word it is\n",
      "Enter your guess: threes\n",
      "Your guess is too long. Try again\n",
      "Enter your guess: thres\n",
      "t exists\n",
      "h exists\n",
      "r exists\n",
      "e exists\n",
      "s wrong\n",
      "Enter your guess: three\n",
      "Congratulations! Your guess is correct\n"
     ]
    },
    {
     "ename": "KeyboardInterrupt",
     "evalue": "Interrupted by user",
     "output_type": "error",
     "traceback": [
      "\u001b[1;31m---------------------------------------------------------------------------\u001b[0m",
      "\u001b[1;31mKeyboardInterrupt\u001b[0m                         Traceback (most recent call last)",
      "\u001b[1;32m~\\AppData\\Local\\Temp\\ipykernel_24536\\2670485934.py\u001b[0m in \u001b[0;36m<module>\u001b[1;34m\u001b[0m\n\u001b[0;32m     28\u001b[0m \u001b[1;32mwhile\u001b[0m \u001b[1;32mTrue\u001b[0m \u001b[1;32mand\u001b[0m \u001b[0mm\u001b[0m\u001b[1;33m<\u001b[0m\u001b[1;36m3\u001b[0m\u001b[1;33m:\u001b[0m\u001b[1;33m\u001b[0m\u001b[1;33m\u001b[0m\u001b[0m\n\u001b[0;32m     29\u001b[0m     \u001b[0mguess_lst\u001b[0m \u001b[1;33m=\u001b[0m \u001b[1;33m[\u001b[0m\u001b[1;33m]\u001b[0m \u001b[1;31m#storing guess characters in here\u001b[0m\u001b[1;33m\u001b[0m\u001b[1;33m\u001b[0m\u001b[0m\n\u001b[1;32m---> 30\u001b[1;33m     \u001b[0mguess\u001b[0m \u001b[1;33m=\u001b[0m \u001b[0minput\u001b[0m\u001b[1;33m(\u001b[0m\u001b[1;34m'Enter your guess: '\u001b[0m\u001b[1;33m)\u001b[0m\u001b[1;33m\u001b[0m\u001b[1;33m\u001b[0m\u001b[0m\n\u001b[0m\u001b[0;32m     31\u001b[0m     \u001b[1;32mif\u001b[0m \u001b[0mlen\u001b[0m\u001b[1;33m(\u001b[0m\u001b[0mguess\u001b[0m\u001b[1;33m)\u001b[0m \u001b[1;33m<\u001b[0m \u001b[0mn\u001b[0m\u001b[1;33m:\u001b[0m\u001b[1;33m\u001b[0m\u001b[1;33m\u001b[0m\u001b[0m\n\u001b[0;32m     32\u001b[0m         \u001b[0mprint\u001b[0m\u001b[1;33m(\u001b[0m\u001b[1;34m'Your guess is too short. Try again'\u001b[0m\u001b[1;33m)\u001b[0m\u001b[1;33m\u001b[0m\u001b[1;33m\u001b[0m\u001b[0m\n",
      "\u001b[1;32mD:\\Anacondas\\lib\\site-packages\\ipykernel\\kernelbase.py\u001b[0m in \u001b[0;36mraw_input\u001b[1;34m(self, prompt)\u001b[0m\n\u001b[0;32m   1175\u001b[0m                 \u001b[1;34m\"raw_input was called, but this frontend does not support input requests.\"\u001b[0m\u001b[1;33m\u001b[0m\u001b[1;33m\u001b[0m\u001b[0m\n\u001b[0;32m   1176\u001b[0m             )\n\u001b[1;32m-> 1177\u001b[1;33m         return self._input_request(\n\u001b[0m\u001b[0;32m   1178\u001b[0m             \u001b[0mstr\u001b[0m\u001b[1;33m(\u001b[0m\u001b[0mprompt\u001b[0m\u001b[1;33m)\u001b[0m\u001b[1;33m,\u001b[0m\u001b[1;33m\u001b[0m\u001b[1;33m\u001b[0m\u001b[0m\n\u001b[0;32m   1179\u001b[0m             \u001b[0mself\u001b[0m\u001b[1;33m.\u001b[0m\u001b[0m_parent_ident\u001b[0m\u001b[1;33m[\u001b[0m\u001b[1;34m\"shell\"\u001b[0m\u001b[1;33m]\u001b[0m\u001b[1;33m,\u001b[0m\u001b[1;33m\u001b[0m\u001b[1;33m\u001b[0m\u001b[0m\n",
      "\u001b[1;32mD:\\Anacondas\\lib\\site-packages\\ipykernel\\kernelbase.py\u001b[0m in \u001b[0;36m_input_request\u001b[1;34m(self, prompt, ident, parent, password)\u001b[0m\n\u001b[0;32m   1217\u001b[0m             \u001b[1;32mexcept\u001b[0m \u001b[0mKeyboardInterrupt\u001b[0m\u001b[1;33m:\u001b[0m\u001b[1;33m\u001b[0m\u001b[1;33m\u001b[0m\u001b[0m\n\u001b[0;32m   1218\u001b[0m                 \u001b[1;31m# re-raise KeyboardInterrupt, to truncate traceback\u001b[0m\u001b[1;33m\u001b[0m\u001b[1;33m\u001b[0m\u001b[0m\n\u001b[1;32m-> 1219\u001b[1;33m                 \u001b[1;32mraise\u001b[0m \u001b[0mKeyboardInterrupt\u001b[0m\u001b[1;33m(\u001b[0m\u001b[1;34m\"Interrupted by user\"\u001b[0m\u001b[1;33m)\u001b[0m \u001b[1;32mfrom\u001b[0m \u001b[1;32mNone\u001b[0m\u001b[1;33m\u001b[0m\u001b[1;33m\u001b[0m\u001b[0m\n\u001b[0m\u001b[0;32m   1220\u001b[0m             \u001b[1;32mexcept\u001b[0m \u001b[0mException\u001b[0m\u001b[1;33m:\u001b[0m\u001b[1;33m\u001b[0m\u001b[1;33m\u001b[0m\u001b[0m\n\u001b[0;32m   1221\u001b[0m                 \u001b[0mself\u001b[0m\u001b[1;33m.\u001b[0m\u001b[0mlog\u001b[0m\u001b[1;33m.\u001b[0m\u001b[0mwarning\u001b[0m\u001b[1;33m(\u001b[0m\u001b[1;34m\"Invalid Message:\"\u001b[0m\u001b[1;33m,\u001b[0m \u001b[0mexc_info\u001b[0m\u001b[1;33m=\u001b[0m\u001b[1;32mTrue\u001b[0m\u001b[1;33m)\u001b[0m\u001b[1;33m\u001b[0m\u001b[1;33m\u001b[0m\u001b[0m\n",
      "\u001b[1;31mKeyboardInterrupt\u001b[0m: Interrupted by user"
     ]
    }
   ],
   "source": [
    "import random\n",
    "#Choosing a word within the list\n",
    "a = [\"three\", \"want\", \"two\", \"lab\",\"random\" ]\n",
    "pick = random.choice(a)\n",
    "print(\"The game has made a selection\")\n",
    "#print(pick)\n",
    "\n",
    "#Checking the length of the word\n",
    "n = len(pick)\n",
    "#print(n)\n",
    "\n",
    "#Dividing the word into separate characters\n",
    "lst = [] #storing characters in here\n",
    "for letter in pick:\n",
    "    lst.append(letter)\n",
    "#print (lst)\n",
    "\n",
    "#Telling the player how many characters the random word has\n",
    "if n == 1:\n",
    "    print(\"The word has\", n,\"letter\", \"Try to guess which word it is\")\n",
    "else:\n",
    "    print(\"The word has\", n,\"letters\", \"Try to guess which word it is\")\n",
    "\n",
    "#Allowing player to enter his guess and validating it\n",
    "guess = '' #storing player's guess in here\n",
    "score = 0 #storing the score in this variable\n",
    "m = 0 #storing the number of tries here\n",
    "while True and m<3:\n",
    "    guess_lst = [] #storing guess characters in here\n",
    "    guess = input('Enter your guess: ')\n",
    "    if len(guess) < n:\n",
    "        print('Your guess is too short. Try again')\n",
    "        continue\n",
    "    elif len(guess) > n:\n",
    "        print('Your guess is too long. Try again')\n",
    "        continue\n",
    "    elif len(guess) and guess == pick: #Condition if the player guess correctly\n",
    "        print (\"Congratulations! Your guess is correct\")\n",
    "    else:\n",
    "        for i in guess: #Dividing the word into separate characters\n",
    "            guess_lst.append(i)\n",
    "            #print (guess_lst)\n",
    "        for char in guess_lst: #Checking if the character exists in the initial selection\n",
    "            if char in lst: #if the letter exists in the initial selection\n",
    "                print(char,'exists')\n",
    "                score = score + 1\n",
    "            else: #If the letter doesn't exist in the initial selection\n",
    "                print(char,'wrong')\n",
    "        m = m + 1\n",
    "        \n",
    "#Giving the player his score and revealing initial selection\n",
    "print(\"The game is over here are your results:\")\n",
    "print (\"You scored a total of\", score, \"points\")\n",
    "print (\"The word you tried to guess is\", \"'\",pick,\"'\")"
   ]
  },
  {
   "cell_type": "markdown",
   "id": "d9e4608b",
   "metadata": {},
   "source": [
    "# Task 5 - Drawing a star"
   ]
  },
  {
   "cell_type": "code",
   "execution_count": 29,
   "id": "1ceed334",
   "metadata": {},
   "outputs": [
    {
     "name": "stdout",
     "output_type": "stream",
     "text": [
      "     * \r\n",
      "    * * \r\n",
      "   * * * \r\n",
      "  * * * * \r\n",
      " * * * * * \r\n",
      "* * * * * * \r\n"
     ]
    }
   ],
   "source": [
    "# Function to demonstrate printing pattern triangle\n",
    "def triangle(n):\n",
    "     \n",
    "    # number of spaces\n",
    "    k = n - 1\n",
    " \n",
    "    # outer loop to handle number of rows\n",
    "    for i in range(0, n):\n",
    "     \n",
    "        # inner loop to handle number spaces\n",
    "        # values changing acc. to requirement\n",
    "        for j in range(0, k):\n",
    "            print(end=\" \")\n",
    "     \n",
    "        # decrementing k after each loop\n",
    "        k = k - 1\n",
    "     \n",
    "        # inner loop to handle number of columns\n",
    "        # values changing acc. to outer loop\n",
    "        for j in range(0, i+1):\n",
    "         \n",
    "            # printing stars\n",
    "            print(\"* \", end=\"\")\n",
    "     \n",
    "        # ending line after each row\n",
    "        print(\"\\r\")\n",
    "# Driver Code\n",
    "n = 6\n",
    "triangle(n)\n",
    "\n",
    "# Function to demonstrate printing pattern triangle\n"
   ]
  },
  {
   "cell_type": "code",
   "execution_count": null,
   "id": "20ba5c16",
   "metadata": {},
   "outputs": [],
   "source": []
  }
 ],
 "metadata": {
  "kernelspec": {
   "display_name": "Python 3 (ipykernel)",
   "language": "python",
   "name": "python3"
  },
  "language_info": {
   "codemirror_mode": {
    "name": "ipython",
    "version": 3
   },
   "file_extension": ".py",
   "mimetype": "text/x-python",
   "name": "python",
   "nbconvert_exporter": "python",
   "pygments_lexer": "ipython3",
   "version": "3.9.13"
  }
 },
 "nbformat": 4,
 "nbformat_minor": 5
}
