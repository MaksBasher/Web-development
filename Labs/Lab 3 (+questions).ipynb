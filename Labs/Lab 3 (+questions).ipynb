{
 "cells": [
  {
   "cell_type": "code",
   "execution_count": 18,
   "id": "8a0f26d6",
   "metadata": {},
   "outputs": [
    {
     "name": "stdout",
     "output_type": "stream",
     "text": [
      "Yes!\n"
     ]
    },
    {
     "data": {
      "text/plain": [
       "0.03"
      ]
     },
     "execution_count": 18,
     "metadata": {},
     "output_type": "execute_result"
    }
   ],
   "source": [
    "class Account(object):\n",
    "...     interest = 0.02\n",
    "...     def __init__(self, account_holder):\n",
    "...         self.balance = 0\n",
    "...         self.holder = account_holder\n",
    "...     def deposit(self, amount):\n",
    "...         self.balance = self.balance + amount\n",
    "...         print(\"Yes!\")\n",
    "\n",
    "a = Account(\"Billy\")\n",
    "a.holder # output - Billy\n",
    "\n",
    "#Account.holder # output - error\n",
    "\n",
    "Account.interest # output - 0.02\n",
    "\n",
    "a.interest # output - 0.02\n",
    "\n",
    "Account.interest = 0.03 # output - 0.03\n",
    "a.interest\n",
    "\n",
    "a.deposit(1000) # output - Yes!\n",
    "\n",
    "a.balance # output - 1000\n",
    "\n",
    "a.interest = 9001 # output -none\n",
    "Account.interest # output - 0.03\n"
   ]
  },
  {
   "cell_type": "code",
   "execution_count": 19,
   "id": "c635b017",
   "metadata": {},
   "outputs": [
    {
     "ename": "SyntaxError",
     "evalue": "invalid syntax (247095432.py, line 2)",
     "output_type": "error",
     "traceback": [
      "\u001b[1;36m  File \u001b[1;32m\"C:\\Users\\maks_\\AppData\\Local\\Temp\\ipykernel_6256\\247095432.py\"\u001b[1;36m, line \u001b[1;32m2\u001b[0m\n\u001b[1;33m    Person class.\u001b[0m\n\u001b[1;37m           ^\u001b[0m\n\u001b[1;31mSyntaxError\u001b[0m\u001b[1;31m:\u001b[0m invalid syntax\n"
     ]
    }
   ],
   "source": [
    "class Person(object):\n",
    "    Person class.\n",
    "\n",
    "steven = Person(\"Steven\")\n",
    "steven.repeat()       # starts at whatever value you'd like\n",
    "'I squirreled it away before it could catch on fire.'\n",
    "steven.say(\"Hello\")\n",
    "'Hello'\n",
    "steven.repeat()\n",
    "'Hello'\n",
    "steven.greet()\n",
    "'Hello, my name is Steven'\n",
    "steven.repeat()\n",
    "'Hello, my name is Steven'\n",
    "steven.ask(\"preserve abstraction barriers\")\n",
    "'Would you please preserve abstraction barriers'\n",
    "steven.repeat()\n",
    "'Would you please preserve abstraction barriers'\n",
    "    \n",
    "def __init__(self, name):\n",
    "    self.name = name\n",
    "\n",
    "def say(self, stuff):\n",
    "    return stuff\n",
    "\n",
    "def ask(self, stuff):\n",
    "    return self.say(\"Would you please \" + stuff)\n",
    "\n",
    "def greet(self):\n",
    "    return self.say(\"Hello, my name is \" + self.name)\n",
    "\n",
    "def repeat(self):\n",
    "\n",
    "    \"*** YOUR CODE HERE ***\"\n"
   ]
  },
  {
   "cell_type": "code",
   "execution_count": 96,
   "id": "2e745464",
   "metadata": {},
   "outputs": [
    {
     "ename": "NameError",
     "evalue": "name 'say' is not defined",
     "output_type": "error",
     "traceback": [
      "\u001b[1;31m---------------------------------------------------------------------------\u001b[0m",
      "\u001b[1;31mNameError\u001b[0m                                 Traceback (most recent call last)",
      "\u001b[1;32m~\\AppData\\Local\\Temp\\ipykernel_6256\\231883552.py\u001b[0m in \u001b[0;36m<module>\u001b[1;34m\u001b[0m\n\u001b[0;32m     27\u001b[0m \u001b[1;33m\u001b[0m\u001b[0m\n\u001b[0;32m     28\u001b[0m \u001b[0msteven\u001b[0m \u001b[1;33m=\u001b[0m \u001b[0mPerson\u001b[0m \u001b[1;33m(\u001b[0m\u001b[1;34m'Steven'\u001b[0m\u001b[1;33m)\u001b[0m\u001b[1;33m\u001b[0m\u001b[1;33m\u001b[0m\u001b[0m\n\u001b[1;32m---> 29\u001b[1;33m \u001b[0msteven\u001b[0m\u001b[1;33m.\u001b[0m\u001b[0msay\u001b[0m\u001b[1;33m(\u001b[0m\u001b[1;34m'Hello'\u001b[0m\u001b[1;33m)\u001b[0m\u001b[1;33m\u001b[0m\u001b[1;33m\u001b[0m\u001b[0m\n\u001b[0m",
      "\u001b[1;32m~\\AppData\\Local\\Temp\\ipykernel_6256\\231883552.py\u001b[0m in \u001b[0;36msay\u001b[1;34m(self, stuff)\u001b[0m\n\u001b[0;32m      5\u001b[0m \u001b[1;33m\u001b[0m\u001b[0m\n\u001b[0;32m      6\u001b[0m     \u001b[1;32mdef\u001b[0m \u001b[0msay\u001b[0m\u001b[1;33m(\u001b[0m\u001b[0mself\u001b[0m\u001b[1;33m,\u001b[0m \u001b[0mstuff\u001b[0m\u001b[1;33m)\u001b[0m\u001b[1;33m:\u001b[0m\u001b[1;33m\u001b[0m\u001b[1;33m\u001b[0m\u001b[0m\n\u001b[1;32m----> 7\u001b[1;33m         \u001b[0msay\u001b[0m\u001b[1;33m.\u001b[0m\u001b[0mvar\u001b[0m \u001b[1;33m=\u001b[0m \u001b[0mstuff\u001b[0m\u001b[1;33m\u001b[0m\u001b[1;33m\u001b[0m\u001b[0m\n\u001b[0m\u001b[0;32m      8\u001b[0m         \u001b[0mprint\u001b[0m\u001b[1;33m(\u001b[0m\u001b[0msay\u001b[0m\u001b[1;33m.\u001b[0m\u001b[0mvar\u001b[0m\u001b[1;33m)\u001b[0m\u001b[1;33m\u001b[0m\u001b[1;33m\u001b[0m\u001b[0m\n\u001b[0;32m      9\u001b[0m \u001b[1;33m\u001b[0m\u001b[0m\n",
      "\u001b[1;31mNameError\u001b[0m: name 'say' is not defined"
     ]
    }
   ],
   "source": [
    "class Person(object):\n",
    "    \n",
    "    def __init__(self, name):\n",
    "        self.name = name\n",
    "        \n",
    "    def say(self, stuff):\n",
    "        say.var = stuff\n",
    "        print(say.var)\n",
    "        \n",
    "    def ask(self, stuff):\n",
    "        phrase = stuff\n",
    "        return self.say(\"Would you please \" + stuff)\n",
    "\n",
    "    def greet(self):\n",
    "        return self.say(\"Hello, my name is \" + self.name)\n",
    "    \n",
    "    def repeat(self,stuff):\n",
    "        phrase = stuff\n",
    "        return phrase\n",
    "    \n",
    "#Логика:\n",
    "    #1.Вызывается одна из функций say,ask или greet\n",
    "    #2.Её аутпут записывается в переменную (или возможно в лист)\n",
    "    #3.Функцией repeat вызывается последний записанный аутпут от функций\n",
    "    #def repeat(self):\n",
    "        \n",
    "    \n",
    "steven = Person ('Steven')\n",
    "steven.say('Hello')"
   ]
  },
  {
   "cell_type": "code",
   "execution_count": 24,
   "id": "962e9a7a",
   "metadata": {},
   "outputs": [
    {
     "name": "stdout",
     "output_type": "stream",
     "text": [
      "Hello\n",
      "Hello\n",
      "Would you please give me this book?\n",
      "Would you please give me this book?\n",
      "Hello, Anna\n",
      "Hello, Anna\n"
     ]
    }
   ],
   "source": [
    "class Person:\n",
    "    def __init__(self, name):\n",
    "        self.memory = None\n",
    "        self.name = name\n",
    "        self.number = 0\n",
    "        \n",
    "    def say(self, phrase):\n",
    "        self.number = 1\n",
    "        self.memory = phrase\n",
    "        print(self.memory)\n",
    "        \n",
    "    def ask(self, question):\n",
    "        self.number = 2\n",
    "        self.memory = question\n",
    "        print(\"Would you please \" + question + \"?\")\n",
    "\n",
    "    def greet(self, greeting):\n",
    "        self.number = 3\n",
    "        self.memory = greeting\n",
    "        greeting = print(\"Hello,\", greeting)\n",
    "        \n",
    "    def repeat(self):\n",
    "        if self.memory is not None and self.number == 1:\n",
    "            print(self.memory)\n",
    "        elif self.memory is not None and self.number == 2:\n",
    "            print(\"Would you please \" + self.memory + \"?\")\n",
    "        elif self.memory is not None and self.number == 3:\n",
    "            print(\"Hello,\", self.memory)   \n",
    "            \n",
    "steven = Person ('Steven')\n",
    "steven.say(\"Hello\")\n",
    "steven.repeat()\n",
    "steven.ask(\"give me this book\")\n",
    "steven.repeat()\n",
    "steven.greet(\"Anna\")\n",
    "steven.repeat()"
   ]
  },
  {
   "cell_type": "markdown",
   "id": "9efa5d29",
   "metadata": {},
   "source": [
    "# Circle"
   ]
  },
  {
   "cell_type": "code",
   "execution_count": 18,
   "id": "1d4aa8d0",
   "metadata": {},
   "outputs": [
    {
     "data": {
      "text/plain": [
       "153.86"
      ]
     },
     "execution_count": 18,
     "metadata": {},
     "output_type": "execute_result"
    }
   ],
   "source": [
    "#Create a Python class named Circle constructed by a radius and two methods which will compute the area and the perimeter of a circle.\n",
    "class Circle:\n",
    "    pi = 3.14\n",
    "    \n",
    "    def __init__(self, radius):\n",
    "        self.radius = radius\n",
    "        \n",
    "    def perimeter(self):\n",
    "        perim = 2*Circle.pi*self.radius\n",
    "        return perim\n",
    "        \n",
    "    def area(self):\n",
    "        ar = Circle.pi*(self.radius**2)\n",
    "        return ar\n",
    "    \n",
    "circle1 = Circle(7)\n",
    "circle1.perimeter()\n",
    "circle1.area()"
   ]
  },
  {
   "cell_type": "markdown",
   "id": "a1e890c8",
   "metadata": {},
   "source": [
    "# Rectangle"
   ]
  },
  {
   "cell_type": "code",
   "execution_count": 19,
   "id": "a314fbee",
   "metadata": {},
   "outputs": [
    {
     "data": {
      "text/plain": [
       "50"
      ]
     },
     "execution_count": 19,
     "metadata": {},
     "output_type": "execute_result"
    }
   ],
   "source": [
    "#Create a Python class named Rectangle constructed by a length and width and a method which will compute the area of a rectangle.\n",
    "class Rectangle:\n",
    "    \n",
    "    def __init__(self, length, width):\n",
    "        self.length = length\n",
    "        self.width = width\n",
    "        \n",
    "    def area(self):\n",
    "        a = self.length*self.width\n",
    "        return a\n",
    "    \n",
    "rectangle = Rectangle(5,10)\n",
    "rectangle.area()"
   ]
  },
  {
   "cell_type": "markdown",
   "id": "e98470ac",
   "metadata": {},
   "source": [
    "# Employee"
   ]
  },
  {
   "cell_type": "code",
   "execution_count": 17,
   "id": "59037ece",
   "metadata": {},
   "outputs": [
    {
     "name": "stdout",
     "output_type": "stream",
     "text": [
      "1 Saif 1000 web developer\n",
      "2 Maksim 2000 manager\n",
      "1 Saif 1000 manager\n"
     ]
    },
    {
     "data": {
      "text/plain": [
       "1200.0"
      ]
     },
     "execution_count": 17,
     "metadata": {},
     "output_type": "execute_result"
    }
   ],
   "source": [
    "class Employee:\n",
    "    def __init__(self, e_id, name, salary, department):\n",
    "        self.emp_id = e_id\n",
    "        self.emp_name = name\n",
    "        self.emp_salary = salary\n",
    "        self.emp_department = department\n",
    "    \n",
    "#takes two arguments: salary and hours_worked, which is the number of hours worked by the employee.  \n",
    "#If the number of hours worked is more than 50, the method computes overtime and adds it to the salary.\n",
    "    def calculate_emp_salary(self,hours_worked):\n",
    "        salary = self.emp_salary\n",
    "        if hours_worked > 50:\n",
    "            overtime = hours_worked - 50\n",
    "            overtime_amount = (overtime * (salary / 50))\n",
    "        total_salary = self.emp_salary + overtime_amount\n",
    "        return total_salary\n",
    "\n",
    "#change the department of an employee\n",
    "    def emp_assign_department(self, department):\n",
    "        self.emp_department = department \n",
    "        \n",
    "#print the details of an employee\n",
    "    def print_employee_details(self):\n",
    "        print(self.emp_id, self.emp_name, self.emp_salary, self.emp_department)\n",
    "\n",
    "e1 = Employee(1,\"Saif\",1000,\"web developer\")\n",
    "e2 = Employee(2,\"Maksim\",2000,\"manager\")\n",
    "\n",
    "e1.print_employee_details()\n",
    "e2.print_employee_details()\n",
    "\n",
    "e1.emp_assign_department(\"manager\")\n",
    "e1.print_employee_details()\n",
    "e1.calculate_emp_salary(60)"
   ]
  },
  {
   "cell_type": "code",
   "execution_count": null,
   "id": "7ccc0309",
   "metadata": {},
   "outputs": [],
   "source": []
  },
  {
   "cell_type": "code",
   "execution_count": null,
   "id": "3401b8eb",
   "metadata": {},
   "outputs": [],
   "source": []
  },
  {
   "cell_type": "code",
   "execution_count": null,
   "id": "7bcf47c9",
   "metadata": {},
   "outputs": [],
   "source": []
  },
  {
   "cell_type": "code",
   "execution_count": null,
   "id": "3cf52155",
   "metadata": {},
   "outputs": [],
   "source": []
  }
 ],
 "metadata": {
  "kernelspec": {
   "display_name": "Python 3 (ipykernel)",
   "language": "python",
   "name": "python3"
  },
  "language_info": {
   "codemirror_mode": {
    "name": "ipython",
    "version": 3
   },
   "file_extension": ".py",
   "mimetype": "text/x-python",
   "name": "python",
   "nbconvert_exporter": "python",
   "pygments_lexer": "ipython3",
   "version": "3.9.13"
  }
 },
 "nbformat": 4,
 "nbformat_minor": 5
}
